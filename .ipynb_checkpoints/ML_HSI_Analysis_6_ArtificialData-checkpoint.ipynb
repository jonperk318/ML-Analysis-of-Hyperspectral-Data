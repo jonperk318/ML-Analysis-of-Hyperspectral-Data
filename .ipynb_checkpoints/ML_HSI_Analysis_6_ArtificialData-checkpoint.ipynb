{
 "cells": [
  {
   "cell_type": "markdown",
   "id": "bafc78b1",
   "metadata": {},
   "source": [
    "This notebook is part of an exploratory analysis of machine learning used to decompose hyperspectral datasets of hybrid perovskite nanoscale materials.\n",
    "\n",
    "Two machine learning models are used: Nonnegative Matrix Factorization and Variational Autoencoders\n",
    "\n",
    "**Notebook Four: Using Artificial Data**"
   ]
  },
  {
   "cell_type": "markdown",
   "id": "3ec8bcd9",
   "metadata": {},
   "source": [
    "# Imports, Functions, and Classes"
   ]
  },
  {
   "cell_type": "markdown",
   "id": "237fe051",
   "metadata": {},
   "source": [
    "## Imports"
   ]
  },
  {
   "cell_type": "code",
   "execution_count": 1,
   "id": "61a33db0",
   "metadata": {
    "ExecuteTime": {
     "end_time": "2024-02-01T04:44:17.410364Z",
     "start_time": "2024-02-01T04:44:17.406650Z"
    }
   },
   "outputs": [],
   "source": [
    "import import_ipynb\n",
    "from ML_HSI_Analysis_1_Preprocessing import *\n",
    "\n",
    "import nimfa\n",
    "import sklearn\n",
    "from sklearn.decomposition import PCA\n",
    "from sklearn.decomposition import NMF\n",
    "from sklearn import metrics\n",
    "\n",
    "import torch; torch.manual_seed(0)\n",
    "from torchvision.utils import make_grid\n",
    "import torch.nn as nn\n",
    "import torch.nn.functional as F\n",
    "import torch.utils\n",
    "import torch.distributions\n",
    "import torchvision\n",
    "import pyroved as pv\n",
    "import pyro.distributions as dist\n",
    "import pyro\n",
    "from pyroved.models.base import baseVAE\n",
    "from pyroved.nets import fcDecoderNet, fcEncoderNet, sDecoderNet\n",
    "from pyroved.utils import (\n",
    "    generate_grid, get_sampler, set_deterministic_mode, to_onehot, transform_coordinates)"
   ]
  },
  {
   "cell_type": "markdown",
   "id": "f841223a",
   "metadata": {
    "heading_collapsed": true
   },
   "source": [
    "# VAE"
   ]
  },
  {
   "cell_type": "code",
   "execution_count": 83,
   "id": "b2e0a552",
   "metadata": {
    "ExecuteTime": {
     "end_time": "2024-01-27T04:54:53.169990Z",
     "start_time": "2024-01-27T04:54:53.153367Z"
    },
    "hidden": true
   },
   "outputs": [],
   "source": [
    "def vae_plot(z_mean, xpix, ypix, scalebar_size):\n",
    "    \n",
    "    rows = 2\n",
    "    columns = len(z_mean[0])\n",
    "    \n",
    "    cmap = mpl.colormaps['viridis']\n",
    "    fig = plt.figure(figsize=(8,8), dpi=600)\n",
    "    if columns == 3:\n",
    "        gs = GridSpec(rows, columns, top=0.5)\n",
    "    else:\n",
    "        gs = GridSpec(rows, columns)\n",
    "    #gs_top = GridSpec(rows, columns, top=0.99)\n",
    "    #gs_base = GridSpec(rows, columns, wspace=0.3, hspace=0.03, top=0.8, bottom=0.3)\n",
    "    #gs_top.tight_layout(fig)\n",
    "    #gs_base.tight_layout(fig)\n",
    "    fig.patch.set_facecolor('white')\n",
    "    \n",
    "    for i in range(rows):\n",
    "        column_count = 0\n",
    "        for j in range(columns):\n",
    "            if i == 0:\n",
    "                if columns == 2:\n",
    "                    ax = fig.add_subplot(gs[0,column_count])\n",
    "                    ax.scatter(z_mean[:,0], z_mean[:,1], c=z_mean[:,column_count], cmap=cmap,\n",
    "                            ec='black', lw=0.2, alpha=0.6, s=3)\n",
    "                    ax.set_xticks([0.25, 0.5, 0.75, 1])\n",
    "                    ax.set_yticks([0.25, 0.5, 0.75, 1])\n",
    "                    ax.set_xticklabels([0.25, 0.5, 0.75, 1], fontsize=5)\n",
    "                    ax.set_yticklabels([0.25, 0.5, 0.75, 1], fontsize=5)\n",
    "                if columns == 3:\n",
    "                    ax = fig.add_subplot(gs[0,column_count], projection='3d')\n",
    "                    ax.scatter(z_mean[:,0], z_mean[:,1], z_mean[:,2], \n",
    "                            c=z_mean[:,column_count], cmap=cmap,\n",
    "                            ec='black', lw=0.05, alpha=0.5, s=3)\n",
    "                    ax.set_xticks([0.25, 0.5, 0.75, 1])\n",
    "                    ax.set_yticks([0.25, 0.5, 0.75, 1])\n",
    "                    ax.set_zticks([0.25, 0.5, 0.75, 1])\n",
    "                    ax.set_xticklabels([])\n",
    "                    ax.set_yticklabels([])\n",
    "                    ax.set_zticklabels([])\n",
    "                    ax.set_xlabel(\"X\", size=10, labelpad=-15)\n",
    "                    ax.set_ylabel(\"Y\", size=10, labelpad=-15)\n",
    "                    ax.set_zlabel(\"Z\", size=10, labelpad=-15)\n",
    "                    #ax.set_zticklabels([0.25, 0.5, 0.75, 1], fontsize=5)\n",
    "                    if j == 0:\n",
    "                        ax.view_init(30, -90) \n",
    "                    elif j == 1:\n",
    "                        ax.view_init(30, -30)\n",
    "                    elif j == 2:\n",
    "                        ax.view_init(30, 30)\n",
    "                ax.tick_params(axis='both', which='minor', labelsize=20, direction='out', \n",
    "                               length=12, width=4)\n",
    "                if column_count == 0:\n",
    "                    ax.set_title('Latent Space', size=20)\n",
    "            \n",
    "            if i == 1:\n",
    "                img = fig.add_subplot(gs[1,column_count])\n",
    "                img.imshow(z_mean[:,column_count].reshape(ypix, xpix), cmap=cmap)\n",
    "                img.set_xticks([])\n",
    "                img.set_yticks([])\n",
    "                \n",
    "                if column_count == (columns-1):\n",
    "                    scalebar = AnchoredSizeBar(img.transData, scalebar_size, \" \", \n",
    "                            \"lower right\", pad=0.3, color='#F2F2F2', frameon=False,\n",
    "                                               size_vertical=3, label_top=True)\n",
    "                    img.add_artist(scalebar)\n",
    "\n",
    "            column_count += 1\n",
    "    \n",
    "    #fig.savefig('VAE/3.2) Figure 1, Y-axis spectra (batch size 256).png')"
   ]
  },
  {
   "cell_type": "code",
   "execution_count": 84,
   "id": "3788c81b",
   "metadata": {
    "ExecuteTime": {
     "end_time": "2024-01-27T04:54:53.178495Z",
     "start_time": "2024-01-27T04:54:53.172508Z"
    },
    "hidden": true
   },
   "outputs": [],
   "source": [
    "# Spectra Plot (For determining latent dimensions)\n",
    "def spectra_plot(img2, array, xpix, ypix, wav, title):\n",
    "    \n",
    "    n = xpix*ypix # total number of spectra\n",
    "    cmap = mpl.colormaps['viridis'](np.linspace(0,1,n)) # create colormap\n",
    "    fig = plt.figure(figsize=(8,8), dpi=600)\n",
    "    fig.patch.set_facecolor('white')\n",
    "    ax = fig.add_subplot()\n",
    "    ax.set_prop_cycle('color', list(cmap)) # colormaps each spectra from first to last in array\n",
    "    ax.set_title(title, size=20)\n",
    "    plt.xlim(spect_range_b, spect_range_t)\n",
    "    #ax.set_xticks([500, 750])\n",
    "    #ax.set_xticklabels([])\n",
    "    #plt.yscale('log')\n",
    "    \n",
    "    for i in array:\n",
    "        ax.plot(wav, img2[:,i[0],i[1]], lw=0.3, alpha=0.5)\n",
    "    \n",
    "    #fig.savefig('VAE/4.3) Figure 1, 3D, Z-axis spectra (batch size 256).png')"
   ]
  },
  {
   "cell_type": "code",
   "execution_count": 90,
   "id": "cadfa7d4",
   "metadata": {
    "ExecuteTime": {
     "end_time": "2024-01-27T04:54:53.702463Z",
     "start_time": "2024-01-27T04:54:53.250270Z"
    },
    "hidden": true
   },
   "outputs": [],
   "source": [
    "f1_denoised_1d_transpose = f1_denoised_2d.transpose(1,0).reshape(f1_zpix*f1_ypix*f1_xpix)\n",
    "f1_denoised_2d_norm = normalize(f1_denoised_1d_transpose).reshape(f1_ypix*f1_xpix, f1_zpix)\n",
    "\n",
    "f1_denoised_2d_norm_t = torch.from_numpy(np.array(f1_denoised_2d_norm).astype('float64')).float()\n",
    "f1_n_samples = f1_denoised_2d_norm_t.size()[0] # number of spectral points\n",
    "f1_l_signal = f1_denoised_2d_norm_t.size()[1] # number of spectra\n",
    "\n",
    "f1_train_data = f1_denoised_2d_norm_t.clone()\n",
    "f1_train_loader = pv.utils.init_dataloader(f1_train_data.unsqueeze(1), batch_size=64)\n",
    "\n",
    "f1_in_dim = (f1_l_signal,)\n",
    "f1_kl_scale = torch.linspace(start=.001, end=.01, steps=50)"
   ]
  },
  {
   "cell_type": "code",
   "execution_count": 91,
   "id": "1a525499",
   "metadata": {
    "ExecuteTime": {
     "end_time": "2024-01-27T04:56:15.031501Z",
     "start_time": "2024-01-27T04:54:53.703491Z"
    },
    "hidden": true
   },
   "outputs": [
    {
     "name": "stdout",
     "output_type": "stream",
     "text": [
      "Epoch: 1 Training loss: 250.9941\n",
      "Epoch: 11 Training loss: 231.3356\n",
      "Epoch: 21 Training loss: 231.2580\n",
      "Epoch: 31 Training loss: 231.2618\n",
      "Epoch: 41 Training loss: 231.2678\n"
     ]
    }
   ],
   "source": [
    "f1_vae = pv.models.iVAE(f1_in_dim, latent_dim=2, invariances=None, sampler_d=\"gaussian\")\n",
    "f1_vae_trainer = pv.trainers.SVItrainer(f1_vae)\n",
    "\n",
    "for e in range(50):\n",
    "    sc = f1_kl_scale[e] if e < len(f1_kl_scale) else f1_kl_scale[-1]\n",
    "    f1_vae_trainer.step(f1_train_loader, scale_factor=sc)\n",
    "    if e//10 == e/10:\n",
    "        f1_vae_trainer.print_statistics()"
   ]
  },
  {
   "cell_type": "code",
   "execution_count": 92,
   "id": "c4db8770",
   "metadata": {
    "ExecuteTime": {
     "end_time": "2024-01-27T04:56:15.164949Z",
     "start_time": "2024-01-27T04:56:15.033090Z"
    },
    "hidden": true
   },
   "outputs": [],
   "source": [
    "f1_vae_z_mean, f1_vae_z_sd = f1_vae.encode(f1_train_data)"
   ]
  },
  {
   "cell_type": "code",
   "execution_count": 93,
   "id": "cc6bb050",
   "metadata": {
    "ExecuteTime": {
     "end_time": "2024-01-27T04:56:15.170072Z",
     "start_time": "2024-01-27T04:56:15.166294Z"
    },
    "hidden": true
   },
   "outputs": [],
   "source": [
    "f1_vae_z_mean = normalize(f1_vae_z_mean)\n",
    "f1_vae_z_sd = normalize(f1_vae_z_sd)"
   ]
  },
  {
   "cell_type": "markdown",
   "id": "bc9995c7",
   "metadata": {},
   "source": [
    "# NMF and VAE on artificial data"
   ]
  },
  {
   "cell_type": "markdown",
   "id": "3b074bab",
   "metadata": {
    "heading_collapsed": true
   },
   "source": [
    "## Reading Data"
   ]
  },
  {
   "cell_type": "code",
   "execution_count": null,
   "id": "054a4072",
   "metadata": {
    "ExecuteTime": {
     "end_time": "2023-12-08T04:21:28.939051Z",
     "start_time": "2023-12-08T04:21:28.939046Z"
    },
    "deletable": false,
    "editable": false,
    "hidden": true,
    "run_control": {
     "frozen": true
    }
   },
   "outputs": [],
   "source": [
    "from Functions import *"
   ]
  },
  {
   "cell_type": "code",
   "execution_count": null,
   "id": "c6df2b4d",
   "metadata": {
    "ExecuteTime": {
     "end_time": "2023-12-08T04:21:28.939623Z",
     "start_time": "2023-12-08T04:21:28.939617Z"
    },
    "deletable": false,
    "editable": false,
    "hidden": true,
    "run_control": {
     "frozen": true
    }
   },
   "outputs": [],
   "source": [
    "f0 = np.load('Blazer Logo Hyperspectral Image.npy', allow_pickle=True)"
   ]
  },
  {
   "cell_type": "code",
   "execution_count": null,
   "id": "2cfcbb6b",
   "metadata": {
    "ExecuteTime": {
     "end_time": "2023-12-08T04:21:28.940013Z",
     "start_time": "2023-12-08T04:21:28.940008Z"
    },
    "deletable": false,
    "editable": false,
    "hidden": true,
    "run_control": {
     "frozen": true
    }
   },
   "outputs": [],
   "source": [
    "f0_xpix = f0.shape[2]\n",
    "f0_ypix = f0.shape[1]\n",
    "f0_zpix = f0.shape[0]"
   ]
  },
  {
   "cell_type": "markdown",
   "id": "53ed8270",
   "metadata": {
    "heading_collapsed": true
   },
   "source": [
    "## Denoising"
   ]
  },
  {
   "cell_type": "code",
   "execution_count": null,
   "id": "90f2646f",
   "metadata": {
    "ExecuteTime": {
     "end_time": "2023-12-08T04:21:28.940710Z",
     "start_time": "2023-12-08T04:21:28.940705Z"
    },
    "deletable": false,
    "editable": false,
    "hidden": true,
    "run_control": {
     "frozen": true
    }
   },
   "outputs": [],
   "source": [
    "f0_1d = np.reshape(f0, (f0_zpix*f0_ypix*f0_xpix))\n",
    "# Subtract background\n",
    "f0_sb_mean = np.mean(f0[len(f0[:,0,0])-101:len(f0[:,0,0])-1,470,300])\n",
    "f0_1d = [(i - f0_sb_mean) for i in f0_1d]\n",
    "f0_1d = [i.clip(min=0) for i in f0_1d]\n",
    "# SB + Median\n",
    "f0_1d = median_filter(\n",
    "    f0_1d, size=3, footprint=None, output=None, mode='reflect', cval=0.0, origin=0)\n",
    "# Set negative values equal to 0\n",
    "for i in range(len(f0_1d)):\n",
    "    if f0_1d[i] < 0:\n",
    "        f0_1d[i] = 0\n",
    "f0 = np.reshape(f0_1d, (f0_zpix, f0_ypix, f0_xpix))\n",
    "f0_2d = np.reshape(f0_1d, (f0_zpix, f0_ypix*f0_xpix))"
   ]
  },
  {
   "cell_type": "code",
   "execution_count": null,
   "id": "4fee9dbe",
   "metadata": {
    "ExecuteTime": {
     "end_time": "2023-12-08T04:21:28.941488Z",
     "start_time": "2023-12-08T04:21:28.941483Z"
    },
    "deletable": false,
    "editable": false,
    "hidden": true,
    "run_control": {
     "frozen": true
    }
   },
   "outputs": [],
   "source": [
    "def artificial_data_plot(hsi):\n",
    "    # Plot figure\n",
    "    fig = plt.figure(figsize=(18, 15))\n",
    "    rows = 3 \n",
    "    columns = 2\n",
    "    cmap = 'viridis'\n",
    "\n",
    "    # img1\n",
    "    fig.add_subplot(rows, columns, 1)\n",
    "    plt.imshow(hsi[230,:,], cmap=cmap)\n",
    "    plt.title(\"Wavelength:230\")\n",
    "    plt.plot(300, 300, \"X\", markersize=10, c='red')\n",
    "    plt.plot(450, 300, \"X\", markersize=10, c='blue')\n",
    "\n",
    "    # plt1\n",
    "    fig.add_subplot(rows, columns, 2)\n",
    "    plt.plot(hsi[:,300,300], c='red')\n",
    "    plt.plot(hsi[:,450,300], c='blue')\n",
    "    plt.axvline(x=230, c='black', lw=2)\n",
    "\n",
    "    # img2\n",
    "    fig.add_subplot(rows, columns, 3)\n",
    "    plt.imshow(hsi[130,:,:], cmap=cmap)\n",
    "    plt.title(\"Wavelength:130\")\n",
    "    plt.plot(300, 475, \"X\", markersize=10, c='red')  \n",
    "    plt.plot(247, 90,\"X\", markersize=10, c='blue')\n",
    "\n",
    "    # plt2\n",
    "    fig.add_subplot(rows, columns,4)\n",
    "    plt.plot(hsi[:,300,475], c='red')\n",
    "    plt.plot(hsi[:,247,90], c='blue')\n",
    "    plt.axvline(x=130, c='black',lw=2)\n",
    "\n",
    "    # img3\n",
    "    fig.add_subplot(rows, columns, 5)\n",
    "    plt.imshow(hsi[50,:,:], cmap=cmap)\n",
    "    plt.title(\"Wavelength:50\")\n",
    "    plt.plot(100, 300, \"X\", markersize=10, c='red')  \n",
    "    plt.plot(470,300,\"X\", markersize=10, c='blue')\n",
    "\n",
    "    # plt3\n",
    "    fig.add_subplot(rows,columns,6)\n",
    "    plt.plot(hsi[:,100,300], c='red')\n",
    "    plt.plot(hsi[:,470,300], c='blue')\n",
    "    plt.axvline(x=50, c='black',lw=2)\n",
    "    plt.show()"
   ]
  },
  {
   "cell_type": "code",
   "execution_count": null,
   "id": "8d0c2ff3",
   "metadata": {
    "ExecuteTime": {
     "end_time": "2023-12-08T04:21:28.942085Z",
     "start_time": "2023-12-08T04:21:28.942079Z"
    },
    "deletable": false,
    "editable": false,
    "hidden": true,
    "run_control": {
     "frozen": true
    },
    "scrolled": true
   },
   "outputs": [],
   "source": [
    "artificial_data_plot(f0)"
   ]
  },
  {
   "cell_type": "markdown",
   "id": "d077fbfe",
   "metadata": {},
   "source": [
    "## NMF"
   ]
  },
  {
   "cell_type": "code",
   "execution_count": null,
   "id": "bd88d80c",
   "metadata": {
    "ExecuteTime": {
     "end_time": "2023-12-08T04:21:28.942618Z",
     "start_time": "2023-12-08T04:21:28.942613Z"
    },
    "deletable": false,
    "editable": false,
    "run_control": {
     "frozen": true
    }
   },
   "outputs": [],
   "source": [
    "# 2 Components\n",
    "f0_nmf_2comp = nmf_2comp\n",
    "W_f0_nmf_2comp = f0_nmf_2comp.fit_transform(f0_2d)\n",
    "H_f0_nmf_2comp = f0_nmf_2comp.components_\n",
    "# 3 Components\n",
    "f0_nmf_3comp = nmf_3comp\n",
    "W_f0_nmf_3comp = f0_nmf_3comp.fit_transform(f0_2d)\n",
    "H_f0_nmf_3comp = f0_nmf_3comp.components_\n",
    "# 4 Components\n",
    "f0_nmf_4comp = nmf_4comp\n",
    "W_f0_nmf_4comp = f0_nmf_4comp.fit_transform(f0_2d)\n",
    "H_f0_nmf_4comp = f0_nmf_4comp.components_\n",
    "# 5 Components\n",
    "f0_nmf_5comp = nmf_5comp\n",
    "W_f0_nmf_5comp = f0_nmf_5comp.fit_transform(f0_2d)\n",
    "H_f0_nmf_5comp = f0_nmf_5comp.components_\n",
    "# 6 Components\n",
    "f0_nmf_6comp = nmf_6comp\n",
    "W_f0_nmf_6comp = f0_nmf_6comp.fit_transform(f0_2d)\n",
    "H_f0_nmf_6comp = f0_nmf_6comp.components_"
   ]
  },
  {
   "cell_type": "code",
   "execution_count": null,
   "id": "731ff052",
   "metadata": {
    "ExecuteTime": {
     "end_time": "2023-12-08T04:21:28.943163Z",
     "start_time": "2023-12-08T04:21:28.943158Z"
    },
    "deletable": false,
    "editable": false,
    "run_control": {
     "frozen": true
    }
   },
   "outputs": [],
   "source": [
    "# Spectral components\n",
    "f0_nmf_spect_matrices = [W_f0_nmf_2comp, W_f0_nmf_3comp, W_f0_nmf_4comp, W_f0_nmf_5comp, \n",
    "                         W_f0_nmf_6comp]\n",
    "# Image components\n",
    "f0_nmf_img_matrices = [H_f0_nmf_2comp, H_f0_nmf_3comp, H_f0_nmf_4comp, H_f0_nmf_5comp, \n",
    "                       H_f0_nmf_6comp]"
   ]
  },
  {
   "cell_type": "markdown",
   "id": "2a6aa999",
   "metadata": {
    "heading_collapsed": true
   },
   "source": [
    "### Plot code"
   ]
  },
  {
   "cell_type": "code",
   "execution_count": null,
   "id": "60bfe1f9",
   "metadata": {
    "ExecuteTime": {
     "end_time": "2023-12-08T04:21:28.943727Z",
     "start_time": "2023-12-08T04:21:28.943722Z"
    },
    "deletable": false,
    "editable": false,
    "hidden": true,
    "run_control": {
     "frozen": true
    }
   },
   "outputs": [],
   "source": [
    "def artificial_nmf_plot(suptitle, spect_matrices, img_matrices, ypix, xpix):\n",
    "\n",
    "    rows = len(spect_matrices)\n",
    "    columns = len(img_matrices)+3\n",
    "    gs = GridSpec(rows, columns)\n",
    "    gs.update(wspace=0.09,hspace=0)\n",
    "    figaspect = plt.figaspect(float(ypix*3)/float(xpix*6))\n",
    "    figsize = (20,32/(figaspect[0]/figaspect[1]))\n",
    "\n",
    "    fig = plt.figure(figsize=figsize, dpi=800)\n",
    "    fig.patch.set_facecolor('#00000000')\n",
    "    fig.suptitle(suptitle, fontsize=30)\n",
    "\n",
    "    row_count = 0\n",
    "    for i in range(rows):\n",
    "\n",
    "        fig_plt = fig.add_subplot(gs[row_count,:2])\n",
    "        fig_plt.set_xticks([])\n",
    "        fig_plt.set_yticks([])\n",
    "        #fig_plt.set_title(str(row_count+2) + \" spectral components\")\n",
    "\n",
    "        column_count = 0\n",
    "        for j in range(row_count+2):\n",
    "\n",
    "            fig_img = fig.add_subplot(gs[row_count,column_count+2])\n",
    "            fig_img.imshow(img_matrices[row_count][column_count,:].reshape(ypix, xpix))\n",
    "            #fig_img.set_title(f1_nmf_analysis_type[row_count] + str(column_count))\n",
    "            fig_img.set_xticks([])\n",
    "            fig_img.set_yticks([])\n",
    "            fig_img.tick_params(color=color[j])\n",
    "            for spine in fig_img.spines.values():\n",
    "                spine.set_edgecolor(color[j])\n",
    "                spine.set(lw=5)\n",
    "\n",
    "            fig_plt.plot(spect_matrices[row_count][:,column_count], \n",
    "                         c=color[j], lw=3)\n",
    "            fig_plt.set_yticks([])\n",
    "            fig_plt.set_yticklabels([])\n",
    "            #fig_plt.tick_params(axis='both', direction='out', length=12, width=4)\n",
    "            if row_count == rows-1:\n",
    "                fig_plt.set_xticks([])\n",
    "                fig_plt.set_xticklabels([])\n",
    "\n",
    "            column_count += 1\n",
    "\n",
    "        row_count += 1\n",
    "    \n",
    "    #fig.savefig('Graphs/final/3.1) Blind NMF plotting 2-6 components (sklearn).svg')"
   ]
  },
  {
   "cell_type": "markdown",
   "id": "53512084",
   "metadata": {
    "heading_collapsed": true
   },
   "source": [
    "### Plot"
   ]
  },
  {
   "cell_type": "code",
   "execution_count": null,
   "id": "15bd8135",
   "metadata": {
    "ExecuteTime": {
     "end_time": "2023-12-08T04:21:28.944443Z",
     "start_time": "2023-12-08T04:21:28.944439Z"
    },
    "deletable": false,
    "editable": false,
    "hidden": true,
    "run_control": {
     "frozen": true
    },
    "scrolled": true
   },
   "outputs": [],
   "source": [
    "artificial_nmf_plot('Blind NMF plotting 2-6 components', f0_nmf_spect_matrices, \n",
    "         f0_nmf_img_matrices, f0_ypix, f0_xpix)"
   ]
  },
  {
   "cell_type": "markdown",
   "id": "28972ff0",
   "metadata": {},
   "source": [
    "### Sparseness"
   ]
  },
  {
   "cell_type": "code",
   "execution_count": null,
   "id": "b5c1c097",
   "metadata": {
    "ExecuteTime": {
     "end_time": "2023-12-08T04:21:28.944885Z",
     "start_time": "2023-12-08T04:21:28.944881Z"
    },
    "deletable": false,
    "editable": false,
    "run_control": {
     "frozen": true
    }
   },
   "outputs": [],
   "source": [
    "snmf_n_comp = 3\n",
    "snmf_iterations = 200\n",
    "snmf_sparseness_levels = [1e-8, 1e-4, 1e-3, 0.01, 0.05, 0.1, 0.25, 0.5, 0.75, 1.0, 1.5, 2.0, 3.0]\n",
    "\n",
    "f0_nimfa_spect_snmf_matrices = []\n",
    "#f0_nimfa_img_snmf_matrices = []"
   ]
  },
  {
   "cell_type": "code",
   "execution_count": null,
   "id": "bc57ac7c",
   "metadata": {
    "ExecuteTime": {
     "end_time": "2023-12-08T04:21:28.945391Z",
     "start_time": "2023-12-08T04:21:28.945385Z"
    },
    "deletable": false,
    "editable": false,
    "run_control": {
     "frozen": true
    }
   },
   "outputs": [],
   "source": [
    "for i in snmf_sparseness_levels:\n",
    "    f0_nimfa_spect_snmf_matrices.append(snmf_model(f0_2d, i, snmf_n_comp, \n",
    "                                                   snmf_iterations, 'l'))"
   ]
  },
  {
   "cell_type": "code",
   "execution_count": null,
   "id": "821384cd",
   "metadata": {
    "ExecuteTime": {
     "end_time": "2023-12-08T04:21:28.945868Z",
     "start_time": "2023-12-08T04:21:28.945863Z"
    },
    "deletable": false,
    "editable": false,
    "run_control": {
     "frozen": true
    }
   },
   "outputs": [],
   "source": [
    "snmf_plot(\"Sparseness in spectral components\\nFigure 0\", f0_nimfa_spect_snmf_matrices, \n",
    "          snmf_sparseness_levels, snmf_n_comp, f0_xpix, f0_ypix)"
   ]
  }
 ],
 "metadata": {
  "kernelspec": {
   "display_name": "Python 3 (ipykernel)",
   "language": "python",
   "name": "python3"
  },
  "language_info": {
   "codemirror_mode": {
    "name": "ipython",
    "version": 3
   },
   "file_extension": ".py",
   "mimetype": "text/x-python",
   "name": "python",
   "nbconvert_exporter": "python",
   "pygments_lexer": "ipython3",
   "version": "3.9.6"
  }
 },
 "nbformat": 4,
 "nbformat_minor": 5
}
